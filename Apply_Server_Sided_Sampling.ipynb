{
 "cells": [
  {
   "cell_type": "markdown",
   "id": "h9hU9VZE8ByX",
   "metadata": {
    "id": "h9hU9VZE8ByX"
   },
   "source": [
    "### Setup"
   ]
  },
  {
   "cell_type": "code",
   "execution_count": 10,
   "id": "e2ce3f4b-63b2-4613-b614-9400a6543ba4",
   "metadata": {
    "executionInfo": {
     "elapsed": 8,
     "status": "ok",
     "timestamp": 1718274431081,
     "user": {
      "displayName": "Christoph Düsing",
      "userId": "09468983824045389594"
     },
     "user_tz": -120
    },
    "id": "e2ce3f4b-63b2-4613-b614-9400a6543ba4"
   },
   "outputs": [],
   "source": [
    "import strategies\n",
    "import load_data\n",
    "import baselines\n",
    "\n",
    "import pandas as pd\n",
    "import numpy as np\n",
    "import statistics\n",
    "from tqdm import tqdm"
   ]
  },
  {
   "cell_type": "markdown",
   "id": "7qJ2eZ-u8Eco",
   "metadata": {
    "id": "7qJ2eZ-u8Eco"
   },
   "source": [
    "### Config"
   ]
  },
  {
   "cell_type": "code",
   "execution_count": 13,
   "id": "b2c5dc30-59b5-4068-8821-dab06754776c",
   "metadata": {
    "executionInfo": {
     "elapsed": 476,
     "status": "ok",
     "timestamp": 1718274438319,
     "user": {
      "displayName": "Christoph Düsing",
      "userId": "09468983824045389594"
     },
     "user_tz": -120
    },
    "id": "b2c5dc30-59b5-4068-8821-dab06754776c"
   },
   "outputs": [],
   "source": [
    "# Data Features\n",
    "dataset_name = \"covtype\"\n",
    "\n",
    "# Data Distribution\n",
    "attribute_skew = None #\"noise\"\n",
    "label_or_quantity_skew = \"label_distribution\"\n",
    "label_alpha = 2\n",
    "label_n = None\n",
    "attribute_alpha = None\n",
    "num_clients = 100\n",
    "purity = 0.7\n",
    "global_skew = 2\n",
    "remove_data_fraction = .3\n",
    "global_skew = .5\n",
    "\n",
    "# Analysis Parameters\n",
    "num_quantiles = 4\n",
    "average_lxo = 5\n",
    "reputation_ts = 5\n",
    "repeat_lxo = 1\n",
    "\n",
    "# Lerning Parametes\n",
    "num_central_epochs = 2\n",
    "num_local_epochs = 3\n",
    "local_multiplier = 0\n",
    "num_rounds = 25\n",
    "\n",
    "# Learning Strategy\n",
    "strategy_name = \"DCFedAvg\"\n",
    "model_name = \"auto\"\n",
    "active_clients = 0.1\n",
    "dc_target = \"real\"\n",
    "dc_combinations = 3\n",
    "stepsize = 1.2\n",
    "weighted = True\n",
    "reset_per_round = False\n",
    "\n",
    "# Static Parameters\n",
    "batch_size= 16\n",
    "device = \"cuda\"\n",
    "test_set_fraction = 0.2\n",
    "shared_set_fraction = 0.001\n",
    "\n",
    "# Logging\n",
    "log_per_round = False\n",
    "log_file = None\n",
    "averaging = \"weighted\"\n",
    "second_averaging = \"macro\"\n",
    "\n",
    "#FedAvg Params\n",
    "dc_combinations = 5\n",
    "dc_target = \"real\" # or \"balanced\""
   ]
  },
  {
   "cell_type": "code",
   "execution_count": null,
   "id": "2945293c-6ace-43e6-90c1-c8fe0130c982",
   "metadata": {
    "executionInfo": {
     "elapsed": 6,
     "status": "ok",
     "timestamp": 1718274438320,
     "user": {
      "displayName": "Christoph Düsing",
      "userId": "09468983824045389594"
     },
     "user_tz": -120
    },
    "id": "2945293c-6ace-43e6-90c1-c8fe0130c982"
   },
   "outputs": [],
   "source": [
    "config = {\n",
    "    \"strategy_name\": strategy_name,\n",
    "    \"model_name\": model_name,\n",
    "    \"bert_pretrained_model\":bert_pretrained_model,\n",
    "    \"dc_target\": dc_target,\n",
    "    \"dc_combinations\": dc_combinations,\n",
    "    \"dataset_name\": dataset_name,\n",
    "    \"active_clients\": active_clients,\n",
    "\n",
    "    \"num_clients\":num_clients,\n",
    "    \"batch_size\":batch_size,\n",
    "\n",
    "    \"weighted\":weighted,\n",
    "    \"reset_per_round\":reset_per_round,\n",
    "\n",
    "    \"device\":device,\n",
    "    \"stepsize\":stepsize,\n",
    "    \"rounds\": num_rounds,\n",
    "    \"local_epochs\": num_local_epochs,\n",
    "    \"central_epochs\": num_central_epochs,\n",
    "    \"local_multiplier\": local_multiplier,\n",
    "\n",
    "    \"attribute_skew\": attribute_skew,\n",
    "    \"label_skew\": label_or_quantity_skew,\n",
    "    \"label_alpha\": label_alpha,\n",
    "    \"label_n\": label_n,\n",
    "    \"attribute_alpha\": attribute_alpha,\n",
    "    \"purity\": purity,\n",
    "    \"global_skew\": global_skew,\n",
    "    \"remove_data_fraction\": remove_data_fraction,\n",
    "    \"global_skew\":global_skew,\n",
    "\n",
    "    \"average_lxo\": average_lxo,\n",
    "    \"num_quantiles\": num_quantiles,\n",
    "    \"reputation_ts\": reputation_ts,\n",
    "\n",
    "    \"test_set_fraction\": test_set_fraction,\n",
    "    \"shared_set_fraction\": shared_set_fraction,\n",
    "\n",
    "    \"evaluation_averaging\": averaging,\n",
    "    \"2nd_evaluation_averaging\": second_averaging,\n",
    "    \n",
    "    \"dc_combinations\":dc_combinations,\n",
    "    \"dc_target\": dc_target\n",
    "}"
   ]
  },
  {
   "cell_type": "markdown",
   "id": "6uV7lYPMBxgk",
   "metadata": {
    "id": "6uV7lYPMBxgk"
   },
   "source": [
    "### Run"
   ]
  },
  {
   "cell_type": "code",
   "execution_count": null,
   "id": "NdCy9ktH_UIw",
   "metadata": {
    "id": "NdCy9ktH_UIw"
   },
   "outputs": [],
   "source": [
    "config = load_data.load_raw_data(config)\n",
    "config = load_data.distribute_skewed_data(config)\n",
    "learning_strategy = strategies.get_strategy_by_name(config)\n",
    "federated_model, federated_f1s, _ = learning_strategy.run(config, filename=log_file, log_per_round=log_per_round, return_f1s=True)"
   ]
  },
  {
   "cell_type": "code",
   "execution_count": null,
   "id": "21713264-179a-4d9c-84d2-69c3d2127067",
   "metadata": {},
   "outputs": [],
   "source": [
    "print(\"Best F1-score: \", np.max(federated_f1s))"
   ]
  }
 ],
 "metadata": {
  "accelerator": "GPU",
  "colab": {
   "collapsed_sections": [
    "h9hU9VZE8ByX",
    "7qJ2eZ-u8Eco"
   ],
   "gpuType": "T4",
   "machine_shape": "hm",
   "provenance": []
  },
  "kernelspec": {
   "display_name": "Python 3 (ipykernel)",
   "language": "python",
   "name": "python3"
  },
  "language_info": {
   "codemirror_mode": {
    "name": "ipython",
    "version": 3
   },
   "file_extension": ".py",
   "mimetype": "text/x-python",
   "name": "python",
   "nbconvert_exporter": "python",
   "pygments_lexer": "ipython3",
   "version": "3.8.8"
  }
 },
 "nbformat": 4,
 "nbformat_minor": 5
}
